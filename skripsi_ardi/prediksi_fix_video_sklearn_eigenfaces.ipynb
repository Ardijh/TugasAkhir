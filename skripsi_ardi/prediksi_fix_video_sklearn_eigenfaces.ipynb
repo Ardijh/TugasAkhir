{
 "cells": [
  {
   "cell_type": "markdown",
   "metadata": {},
   "source": [
    "<h2> Load Library <h2>"
   ]
  },
  {
   "cell_type": "code",
   "execution_count": 1,
   "metadata": {},
   "outputs": [
    {
     "name": "stderr",
     "output_type": "stream",
     "text": [
      "Using TensorFlow backend.\n"
     ]
    }
   ],
   "source": [
    "import os,cv2\n",
    "import numpy as np\n",
    "import matplotlib.pyplot as plt\n",
    "from sklearn.decomposition import PCA\n",
    "from sklearn.utils import shuffle\n",
    "from keras import backend as K\n",
    "K.set_image_dim_ordering('th')\n",
    "import pickle\n",
    "from sklearn.discriminant_analysis import LinearDiscriminantAnalysis as LDA"
   ]
  },
  {
   "cell_type": "markdown",
   "metadata": {},
   "source": [
    "<h2> Function For ganti indx to String Names <h2>"
   ]
  },
  {
   "cell_type": "code",
   "execution_count": 2,
   "metadata": {},
   "outputs": [
    {
     "name": "stdout",
     "output_type": "stream",
     "text": [
      "Fungsi berhasil di load\n"
     ]
    }
   ],
   "source": [
    "def from_class_to_label(kelas):\n",
    "    data_path = os.path.expanduser('data_gambar_sklearn')\n",
    "    data_dir_list = sorted(os.listdir(data_path))\n",
    "\n",
    "    data_nama=[]\n",
    "    for dataset in data_dir_list:\n",
    "        img_list=os.listdir(data_path+'/'+ dataset)\n",
    "        data_nama.append(dataset)\n",
    "    \n",
    "    list_labels = data_nama\n",
    "    \n",
    "    for i in list_labels:\n",
    "        if kelas==list_labels.index(i):\n",
    "            return i\n",
    "\n",
    "print(\"Fungsi berhasil di load\")"
   ]
  },
  {
   "cell_type": "markdown",
   "metadata": {},
   "source": [
    "<h2> Display a video with Opencv dan Python<h2>"
   ]
  },
  {
   "cell_type": "code",
   "execution_count": 3,
   "metadata": {},
   "outputs": [],
   "source": [
    "def show_video():\n",
    "        video_capture = cv2.VideoCapture(0)\n",
    "        nama_muka = []\n",
    "        while True:\n",
    "            ret, frame = video_capture.read()\n",
    "            inImg = np.array(frame)\n",
    "            outImg, nama_muka = process_image(inImg)\n",
    "            cv2.imshow('Mantul', outImg)\n",
    "\n",
    "            # When everything is done, release the capture on pressing 'q'\n",
    "            if cv2.waitKey(1) & 0xFF == ord('q'):\n",
    "                video_capture.release()\n",
    "                cv2.destroyAllWindows()\n",
    "                return"
   ]
  },
  {
   "cell_type": "markdown",
   "metadata": {},
   "source": [
    "<h2> function for resize <h2>"
   ]
  },
  {
   "cell_type": "code",
   "execution_count": 4,
   "metadata": {},
   "outputs": [],
   "source": [
    "def face1(face):\n",
    "    num_channel = 1\n",
    "    face_resized = cv2.resize(face, (112, 92))\n",
    "    test_image = np.array(face_resized)\n",
    "    test_image = test_image.astype('float64')\n",
    "    test_image /= 255\n",
    "\n",
    "    if num_channel==1:\n",
    "        if K.image_dim_ordering()=='th':\n",
    "            test_image= np.expand_dims(test_image, axis=0)\n",
    "            test_image= np.expand_dims(test_image, axis=0)\n",
    "        else:\n",
    "            test_image= np.expand_dims(test_image, axis=3) \n",
    "            test_image= np.expand_dims(test_image, axis=0)\n",
    "    else:\n",
    "        if K.image_dim_ordering()=='th':\n",
    "            test_image=np.rollaxis(test_image,2,0)\n",
    "            test_image= np.expand_dims(test_image, axis=0)\n",
    "        else:\n",
    "            test_image= np.expand_dims(test_image, axis=0)\n",
    "    return test_image"
   ]
  },
  {
   "cell_type": "markdown",
   "metadata": {},
   "source": [
    "<h2> function for load model, image processing, reshape, dan prediksi <h2>"
   ]
  },
  {
   "cell_type": "code",
   "execution_count": 5,
   "metadata": {},
   "outputs": [],
   "source": [
    "def process_image(inImg):\n",
    "        #=============LDA===================\n",
    "        with open ('model/LDA_mlp.pkl', 'rb') as Rpca:\n",
    "            model_1= pickle.load(Rpca)\n",
    "        \n",
    "        with open ('model/model_LDA_mlp.pkl', 'rb') as Rca:\n",
    "            model_2= pickle.load(Rca)\n",
    "         #==============PCA   \n",
    "#         with open ('model/PCA_mlp.pkl', 'rb') as Rpca:\n",
    "#             model_1= pickle.load(Rpca)\n",
    "        \n",
    "#         with open ('model/model_PCA_mlp.pkl', 'rb') as Rca:\n",
    "#             model_2= pickle.load(Rca)\n",
    "        \n",
    "        \n",
    "        RESIZE_FACTOR = 4\n",
    "        global names\n",
    "        frame = cv2.flip(inImg,1)\n",
    "        \n",
    "\n",
    "        gray = cv2.cvtColor(frame, cv2.COLOR_BGR2GRAY)\n",
    "        hist= cv2.equalizeHist(gray)\n",
    "        gray_resized=cv2.resize(hist,(160,130))\n",
    "        \n",
    "\n",
    "#         deteksi = model.predict(test_image)\n",
    "        cascPath = \"haarcascade/haarcascade_frontalface_default.xml\"\n",
    "\n",
    "        face_cascade = cv2.CascadeClassifier(cascPath)\n",
    "        faces = face_cascade.detectMultiScale(\n",
    "                gray_resized,\n",
    "                scaleFactor=1.1,\n",
    "                minNeighbors=5,\n",
    "                minSize=(30, 30),\n",
    "                flags=cv2.CASCADE_SCALE_IMAGE\n",
    "                )\n",
    "        nama_prediksi = []\n",
    "        for i in range(len(faces)):\n",
    "            face_i = faces[i]\n",
    "            x = face_i[0] * RESIZE_FACTOR\n",
    "            y = face_i[1] * RESIZE_FACTOR\n",
    "            w = face_i[2] * RESIZE_FACTOR\n",
    "            h = face_i[3] * RESIZE_FACTOR\n",
    "            face = gray[y:y+h, x:x+w]\n",
    "            \n",
    "            test_image=face1(face)\n",
    "            shape = test_image.shape\n",
    "            test_image = test_image.reshape((shape[0], shape[1] * shape[2]*shape[3]))\n",
    "            test_image.shape\n",
    "            hasil_pca=model_1.transform(test_image)\n",
    "            hasil_predik= model_2.predict(hasil_pca)[0]\n",
    "                \n",
    "            nama = from_class_to_label(hasil_predik)\n",
    "            kn='unknown'\n",
    "            if nama==kn:\n",
    "                salah = 'Tidak Diketahui'\n",
    "                cv2.rectangle(frame, (x,y), (x+w, y+h), (0, 0, 255), 3)\n",
    "                cv2.putText(frame,salah, (x-10, y-10), cv2.FONT_HERSHEY_PLAIN,1,(0, 255, 0))\n",
    "                \n",
    "            else:\n",
    "                \n",
    "                cv2.rectangle(frame, (x,y), (x+w, y+h), (255, 0, 0), 3)\n",
    "                cv2.putText(frame, (nama), (x-10, y-10), cv2.FONT_HERSHEY_PLAIN,1,(0, 255, 0))\n",
    "            nama_prediksi.append(nama)\n",
    "        return (frame, nama_prediksi)"
   ]
  },
  {
   "cell_type": "code",
   "execution_count": 6,
   "metadata": {},
   "outputs": [],
   "source": [
    "show_video()"
   ]
  },
  {
   "cell_type": "code",
   "execution_count": null,
   "metadata": {},
   "outputs": [],
   "source": []
  },
  {
   "cell_type": "code",
   "execution_count": null,
   "metadata": {},
   "outputs": [],
   "source": []
  }
 ],
 "metadata": {
  "kernelspec": {
   "display_name": "Python 3",
   "language": "python",
   "name": "python3"
  },
  "language_info": {
   "codemirror_mode": {
    "name": "ipython",
    "version": 3
   },
   "file_extension": ".py",
   "mimetype": "text/x-python",
   "name": "python",
   "nbconvert_exporter": "python",
   "pygments_lexer": "ipython3",
   "version": "3.7.3"
  }
 },
 "nbformat": 4,
 "nbformat_minor": 2
}
